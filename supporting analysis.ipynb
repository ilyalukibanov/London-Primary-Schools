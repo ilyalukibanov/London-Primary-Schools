{
 "cells": [
  {
   "cell_type": "code",
   "execution_count": 1,
   "id": "98bb0d9e",
   "metadata": {},
   "outputs": [],
   "source": [
    "import json\n",
    "import pandas as pd\n",
    "import numpy as np\n",
    "import matplotlib.pyplot as plt"
   ]
  },
  {
   "cell_type": "markdown",
   "id": "3ea18667",
   "metadata": {},
   "source": [
    "## Process district names from https://www.doogal.co.uk/london_postcodes"
   ]
  },
  {
   "cell_type": "code",
   "execution_count": 2,
   "id": "a15c78ba",
   "metadata": {},
   "outputs": [],
   "source": [
    "# Unique name correspondance\n",
    "dn = \"\"\"E1: Mile End, Stepney, Whitechapel\n",
    "E2: Bethnal Green, Shoreditch\n",
    "E3: Bow, Bromley-by-Bow\n",
    "E4: Chingford, Highams Park\n",
    "E5: Clapton\n",
    "E6: East Ham, Beckton\n",
    "E7: Forest Gate, Upton Park\n",
    "E8: Hackney, Dalston\n",
    "E9: Hackney, Homerton\n",
    "E10: Leyton\n",
    "E11: Leytonstone\n",
    "E12: Manor Park\n",
    "E13: Plaistow\n",
    "E14: Isle of Dogs, Millwall, Poplar\n",
    "E15: Stratford, West Ham\n",
    "E16: Canning Town, North Woolwich\n",
    "E17: Walthamstow\n",
    "E18: South Woodford\n",
    "E20: Olympic Park, Stratford\n",
    "N1: Barnsbury, Canonbury, Islington\n",
    "N2: East Finchley\n",
    "N3: Finchley Central\n",
    "N4: Finsbury Park, Manor House\n",
    "N5: Highbury\n",
    "N6: Highgate\n",
    "N7: Holloway\n",
    "N8: Crouch End, Hornsey\n",
    "N9: Lower Edmonton\n",
    "N10: Muswell Hill\n",
    "N11: Friern Barnet, New Southgate\n",
    "N12: North Finchley, Woodside Park\n",
    "N13: Palmers Green\n",
    "N14: Southgate\n",
    "N15: Seven Sisters\n",
    "N16: Stamford Hill, Stoke Newington\n",
    "N17: Tottenham\n",
    "N18: Upper Edmonton\n",
    "N19: Archway, Tufnell Park\n",
    "N20: Totteridge, Whetstone\n",
    "N21: Winchmore Hill\n",
    "N22: Alexandra Palace, Wood Green\n",
    "NW1: Camden Town, Regent's Park\n",
    "NW2: Cricklewood, Neasden\n",
    "NW3: Hampstead, Swiss Cottage\n",
    "NW4: Brent Cross, Hendon\n",
    "NW5: Kentish Town\n",
    "NW6: Kilburn, Queens Park, West Hampstead\n",
    "NW7: Mill Hill\n",
    "NW8: St John's Wood\n",
    "NW9: Colindale, Kingsbury\n",
    "NW10: Harlesden, Kensal Green, Willesden\n",
    "NW11: Golders Green, Hampstead Garden Suburb\n",
    "SE1: Bermondsey, Borough, Southwark, Waterloo\n",
    "SE2: Abbey Wood\n",
    "SE3: Blackheath, Westcombe Park\n",
    "SE4: Brockley, Crofton Park, Honor Oak Park\n",
    "SE5: Camberwell\n",
    "SE6: Bellingham, Catford, Hither Green\n",
    "SE7: Charlton\n",
    "SE8: Deptford\n",
    "SE9: Eltham, Mottingham\n",
    "SE10: Greenwich\n",
    "SE11: Lambeth\n",
    "SE12: Grove Park, Lee\n",
    "SE13: Hither Green, Lewisham\n",
    "SE14: New Cross, New Cross Gate\n",
    "SE15: Nunhead, Peckham\n",
    "SE16: Rotherhithe, South Bermondsey, Surrey Docks\n",
    "SE17: Elephant & Castle, Walworth\n",
    "SE18: Plumstead, Woolwich\n",
    "SE19: Crystal Palace, Upper Norwood\n",
    "SE20: Anerley, Penge\n",
    "SE21: Dulwich\n",
    "SE22: East Dulwich\n",
    "SE23: Forest Hill\n",
    "SE24: Herne Hill\n",
    "SE25: South Norwood\n",
    "SE26: Sydenham\n",
    "SE27: Tulse Hill, West Norwood\n",
    "SE28: Thamesmead\n",
    "SW1: Belgravia, Pimlico, Westminster\n",
    "SW2: Brixton, Streatham Hill\n",
    "SW3: Brompton, Chelsea\n",
    "SW4: Clapham\n",
    "SW5: Earl's Court\n",
    "SW6: Fulham, Parson's Green\n",
    "SW7: South Kensington\n",
    "SW8: Nine Elms, South Lambeth\n",
    "SW9: Brixton, Stockwell\n",
    "SW10: West Brompton, World's End\n",
    "SW11: Battersea, Clapham Junction\n",
    "SW12: Balham\n",
    "SW13: Barnes, Castelnau\n",
    "SW14: East Sheen, Mortlake\n",
    "SW15: Putney, Roehampton\n",
    "SW16: Norbury, Streatham\n",
    "SW17: Tooting\n",
    "SW18: Earlsfield, Wandsworth\n",
    "SW19: Merton, Wimbledon\n",
    "SW20: Raynes Park, South Wimbledon\n",
    "W1: Marylebone, Mayfair, Soho\n",
    "W2: Bayswater, Paddington\n",
    "W3: Acton\n",
    "W4: Chiswick\n",
    "W5: Ealing\n",
    "W6: Hammersmith\n",
    "W7: Hanwell\n",
    "W8: Kensington\n",
    "W9: Maida Vale, Warwick Avenue\n",
    "W10: Ladbroke Grove, North Kensington\n",
    "W11: Holland Park, Notting Hill\n",
    "W12: Shepherd's Bush\n",
    "W13: West Ealing\n",
    "W14: West Kensington\"\"\"\n",
    "district_name_references = {}\n",
    "for name in dn.split('\\n'):\n",
    "    key, value = name.split(':')\n",
    "    district_name_references[key.strip()] = f'{value.strip()} ({key.strip()})'\n",
    "# Multiple district codes, single name reference\n",
    "for name_correspondances in (('EC1A  EC1M  EC1N  EC1P  EC1R  EC1V  EC1Y','Barbican, Clerkenwell, Finsbury'),\n",
    "                             ('EC2A  EC2M  EC2N  EC2P  EC2R  EC2V  EC2Y','Moorgate, Liverpool Street'),\n",
    "                             ('EC3A  EC3M  EC3N  EC3P  EC3R  EC3V','Aldgate, Monument, Tower Hill'),\n",
    "                             ('EC4A  EC4M  EC4N  EC4P  EC4R  EC4V  EC4Y',\"Fleet Street, St Paul's\"),\n",
    "                            ('WC1A  WC1B  WC1E  WC1H  WC1N  WC1R  WC1V  WC1X',\"Bloomsbury, Gray's Inn\"),\n",
    "                            ('WC2A  WC2B  WC2E  WC2H  WC2N  WC2R','Covent Garden, Holborn, Strand')):\n",
    "    for district in name_correspondances[0].split(' '):\n",
    "        if district != '':\n",
    "            district_name_references[district] = f'{name_correspondances[1]} ({district})'\n",
    "district_name_references['E1W'] = district_name_references['E1']\n",
    "district_name_references['N1C'] = district_name_references['N1']\n",
    "district_name_references['N1P'] = district_name_references['N1']\n",
    "for l in ['A', 'E', 'H', 'P', 'V', 'W', 'X', 'Y']:\n",
    "    district_name_references[f'SW1{l}'] = district_name_references['SW1']\n",
    "for l in ['A', 'B', 'C', 'D', 'F', 'G', 'H', 'J', 'K', 'S', 'T', 'U', 'W']:\n",
    "    district_name_references[f'W1{l}'] = district_name_references['W1']"
   ]
  },
  {
   "cell_type": "code",
   "execution_count": 3,
   "id": "61903e74",
   "metadata": {},
   "outputs": [],
   "source": [
    "# Save district name references for further usage\n",
    "json_district_name_references = json.dumps(district_name_references)\n",
    "with open(\"data/district_name_references.json\", \"w\") as outfile:\n",
    "    outfile.write(json_object)"
   ]
  },
  {
   "cell_type": "markdown",
   "id": "02720d6e",
   "metadata": {},
   "source": [
    "## Create district names"
   ]
  },
  {
   "cell_type": "code",
   "execution_count": 8,
   "id": "dfd133aa",
   "metadata": {},
   "outputs": [],
   "source": [
    "district_names = [f'EC{i}{l}' for i in range(1,5) for l in ('A','M','N','P','R','V')]\\\n",
    "    + [f'W1{l}' for l in ['A', 'B', 'C', 'D', 'F', 'G', 'H', 'J', 'K', 'S', 'T', 'U', 'W']]\\\n",
    "    + [f'W{i}' for i in range(2,15)]\\\n",
    "    + ['E1W','N1C', 'N1P']\\\n",
    "    + [f'SW1{l}' for l in ['A', 'E', 'H', 'P', 'V', 'W', 'X', 'Y']]\\\n",
    "    + [f'SW{i}' for i in range(2,21)]\\\n",
    "    + [f'EC{i}Y' for i in (1,2,4)]\\\n",
    "    + [f'WC{i}{l}' for i in (1,2) for l in ('A','B','E','H','N','R')]\\\n",
    "    + [f'{l}{i}' for m,l in [(19,'E'),(23,'N'),(12,'NW'),(29,'SE')] for i in range(1,m)]\\\n",
    "    + ['WC1V','WC1X','E20']"
   ]
  },
  {
   "cell_type": "code",
   "execution_count": 9,
   "id": "6ed264c5",
   "metadata": {},
   "outputs": [],
   "source": [
    "json_district_names = json.dumps(district_names)\n",
    "with open(\"data/district_names.json\", \"w\") as outfile:\n",
    "    outfile.write(json_district_names)"
   ]
  },
  {
   "cell_type": "markdown",
   "id": "257a7634",
   "metadata": {},
   "source": [
    "## Create weighted scores "
   ]
  },
  {
   "cell_type": "markdown",
   "id": "f2844d59",
   "metadata": {},
   "source": [
    "I use expenontial decay to weight historical rating (https://en.wikipedia.org/wiki/Exponential_decay). I do it in the following way:\n",
    "1) Use periods from one inspection date to the next one. For each inspection, I count its age in years from today. For each row in the data, $t_{1}$ will be the following inspection age and $t_{0}$ is the current inspection date. For the last inspection, I take current date as the following inspection date.\n",
    "2) Assign the following initial weight to each period: $\\int_{t_0}^{t_1}\\exp(-\\lambda t)dt=\\frac{1}{\\lambda}(\\exp(-\\lambda t_0)-\\exp(-\\lambda t_1))$.\n",
    "3) Normalize weights to sum up to 1 for each school.\n",
    "4) Multiple weight by the inspection score and sum them for each school."
   ]
  },
  {
   "cell_type": "code",
   "execution_count": 4,
   "id": "4a1ebfb0",
   "metadata": {},
   "outputs": [
    {
     "data": {
      "image/png": "[encoded data removed]",
      "text/plain": [
       "<Figure size 640x480 with 1 Axes>"
      ]
     },
     "metadata": {},
     "output_type": "display_data"
    }
   ],
   "source": [
    "lambda_ = -0.25\n",
    "x = np.arange(21)\n",
    "y = np.exp(lambda_*x)\n",
    "plt.plot(x,y)\n",
    "plt.title(f'Exponential Decay Function with lambda={lambda_}',fontsize=16)\n",
    "plt.ylabel('Age in Years',fontsize=14)\n",
    "plt.xlabel('Weight',fontsize=14)\n",
    "plt.show()"
   ]
  },
  {
   "cell_type": "markdown",
   "id": "21ef7140",
   "metadata": {},
   "source": [
    "I use $\\lambda$=-0.25 because it does not decay too fast and not too slow. Two years in the past will have 60% weight compared to today and 5 years in the past will have ~30% weight compared to today."
   ]
  },
  {
   "cell_type": "code",
   "execution_count": 5,
   "id": "6141f633",
   "metadata": {},
   "outputs": [],
   "source": [
    "inspection_data = pd.read_csv('data/inspection_data.csv', parse_dates=['record_date','publication_date'])\n",
    "scores_regexp = '|'.join(['Outstanding','Good','Requires Improvement','Inadequate'])\n",
    "# Remove unrated inspections/visits\n",
    "rated_inspections = inspection_data[\n",
    "    (inspection_data['record_details'].str.contains('inspection',case=False)) &\n",
    "    (inspection_data['record_details'].str.lower().str.contains(scores_regexp,case=False))].copy()\n",
    "rated_inspections['rating'] = rated_inspections['record_details'].str.split(':').str[-1].str.strip()\n",
    "rating_mapping = {'Outstanding':4, 'Good':3, 'Requires Improvement':2, 'Inadequate':1}\n",
    "rated_inspections['numerical_rating'] = rated_inspections['rating'].map(rating_mapping)"
   ]
  },
  {
   "cell_type": "code",
   "execution_count": 6,
   "id": "525c56b7",
   "metadata": {},
   "outputs": [],
   "source": [
    "TODAY = pd.Timestamp.today().replace(hour=0, minute=0, second=0, microsecond=0)\n",
    "YEAR = np.timedelta64(1, 'Y')\n",
    "LAMBDA = -0.25\n",
    "rated_inspections['next_record_date'] = rated_inspections[['school_id','record_date']].groupby(['school_id']).shift(1)\n",
    "# Fill the next recod daye of the last inspection with today\n",
    "rated_inspections.loc[rated_inspections['next_record_date'].isna(), 'next_record_date'] = TODAY\n",
    "rated_inspections['record_age'] = (TODAY - rated_inspections['record_date']) / YEAR\n",
    "rated_inspections['next_record_age'] = (TODAY - rated_inspections['next_record_date']) / YEAR\n",
    "rated_inspections['weight'] = 1/LAMBDA * (np.exp(LAMBDA*rated_inspections['record_age'])-np.exp(LAMBDA*rated_inspections['next_record_age']))\n",
    "# Normalize weights\n",
    "rated_inspections['weight'] = rated_inspections['weight'] / rated_inspections[['school_id','weight']].groupby(['school_id']).transform(sum)['weight']\n",
    "rated_inspections['weighted_score'] = rated_inspections['weight'] * rated_inspections['numerical_rating']\n",
    "weighted_scores = rated_inspections[['school_id','weighted_score']].groupby(['school_id'],as_index=False).sum()\n",
    "weighted_scores.to_csv('data/weighted_scores.csv',index=False)"
   ]
  }
 ],
 "metadata": {
  "kernelspec": {
   "display_name": "Python 3 (ipykernel)",
   "language": "python",
   "name": "python3"
  },
  "language_info": {
   "codemirror_mode": {
    "name": "ipython",
    "version": 3
   },
   "file_extension": ".py",
   "mimetype": "text/x-python",
   "name": "python",
   "nbconvert_exporter": "python",
   "pygments_lexer": "ipython3",
   "version": "3.11.4"
  }
 },
 "nbformat": 4,
 "nbformat_minor": 5
}
