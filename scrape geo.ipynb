{
 "cells": [
  {
   "cell_type": "code",
   "execution_count": null,
   "id": "a154b4b3",
   "metadata": {},
   "outputs": [],
   "source": [
    "import os\n",
    "import json\n",
    "\n",
    "import pandas as pd\n",
    "import googlemaps"
   ]
  },
  {
   "cell_type": "code",
   "execution_count": null,
   "id": "788feca1",
   "metadata": {},
   "outputs": [],
   "source": [
    "school_data = pd.read_csv('data/all_schools.csv')"
   ]
  },
  {
   "cell_type": "code",
   "execution_count": null,
   "id": "54eaa699",
   "metadata": {},
   "outputs": [],
   "source": [
    "addresses = school_data['address'].to_list()\n",
    "school_links = school_data['link'].to_list()"
   ]
  },
  {
   "cell_type": "code",
   "execution_count": null,
   "id": "53bfd94c",
   "metadata": {},
   "outputs": [],
   "source": [
    "# You will need to create a Google API key to use this script.\n",
    "# Google provides $200 credit each month.\n",
    "# This script costs ~$9.\n",
    "with open('key.txt', 'r') as file:\n",
    "    key = file.readline()"
   ]
  },
  {
   "cell_type": "code",
   "execution_count": null,
   "id": "2591462d",
   "metadata": {},
   "outputs": [],
   "source": [
    "gmaps = googlemaps.Client(key=key)"
   ]
  },
  {
   "cell_type": "code",
   "execution_count": null,
   "id": "87d9acc2",
   "metadata": {},
   "outputs": [],
   "source": [
    "# Query geocodes for each address in the school data\n",
    "for address, school_link in zip(addresses,school_links):\n",
    "    geocode_result = gmaps.geocode(address)\n",
    "    school_link_split = school_link.split('/')\n",
    "    school_id = school_link_split[-2] + '_' + school_link_split[-1]\n",
    "    json_object = json.dumps(geocode_result)\n",
    "    with open(f\"data/school_coordinates/{school_id}.json\", \"w\") as outfile:\n",
    "        outfile.write(json_object)"
   ]
  },
  {
   "cell_type": "code",
   "execution_count": null,
   "id": "21d73276",
   "metadata": {},
   "outputs": [],
   "source": [
    "# Queries contain a lot of information, but I only need lattitude and longitude for this project\n",
    "geo_data = []\n",
    "for file in os.listdir('school_coordinates/'):\n",
    "    school_id = file.split('.')[0].strip()\n",
    "    with open(f\"school_coordinates/{school_id}.json\", \"r\") as file:\n",
    "        school_geo_data = json.load(file)\n",
    "        geo_data.append((school_id,school_geo_data[0]['geometry']['location']['lat'], school_geo_data[0]['geometry']['location']['lng']))\n",
    "geo_data = pd.DataFrame(geo_data, columns=['school_id','lattitude','longitude'])\n",
    "geo_data.to_csv('data/school_geo_data.csv',index=False)"
   ]
  }
 ],
 "metadata": {
  "kernelspec": {
   "display_name": "Python 3 (ipykernel)",
   "language": "python",
   "name": "python3"
  },
  "language_info": {
   "codemirror_mode": {
    "name": "ipython",
    "version": 3
   },
   "file_extension": ".py",
   "mimetype": "text/x-python",
   "name": "python",
   "nbconvert_exporter": "python",
   "pygments_lexer": "ipython3",
   "version": "3.11.4"
  }
 },
 "nbformat": 4,
 "nbformat_minor": 5
}
